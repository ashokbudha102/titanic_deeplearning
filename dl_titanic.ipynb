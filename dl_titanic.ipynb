{
 "cells": [
  {
   "cell_type": "code",
   "execution_count": 1,
   "metadata": {},
   "outputs": [],
   "source": [
    "import numpy as np\n",
    "import matplotlib.pyplot as plt\n",
    "import pandas as pd\n",
    "import sklearn\n",
    "from sklearn.preprocessing import normalize\n",
    "from sklearn.model_selection import train_test_split"
   ]
  },
  {
   "cell_type": "code",
   "execution_count": 2,
   "metadata": {},
   "outputs": [],
   "source": [
    "df=pd.read_csv('train.csv')\n",
    "df.drop(['Name','Ticket','Cabin','PassengerId'],1,inplace=True)\n",
    "df.replace({'male':1,'female':0},inplace=True)\n",
    "max=df['Embarked'].mode()\n",
    "df=df.fillna(max)\n",
    "df.replace({'S':0,'C':1,'Q':2},inplace=True)\n",
    "df['Age']=df['Age'].interpolate()\n",
    "df=df.dropna()\n",
    "X=np.array(df.drop(['Survived'],1))\n",
    "Y=np.array(df['Survived'])"
   ]
  },
  {
   "cell_type": "code",
   "execution_count": 40,
   "metadata": {},
   "outputs": [],
   "source": [
    "X_flatten=X.reshape(X.shape[0],-1).T\n",
    "Y_flatten=Y.reshape(Y.shape[0],1)\n",
    "X_normalized=sklearn.preprocessing.normalize(X_flatten)"
   ]
  },
  {
   "cell_type": "code",
   "execution_count": 41,
   "metadata": {},
   "outputs": [],
   "source": [
    "def sigmoid(Z):\n",
    "    \"\"\"\n",
    "    Implements the sigmoid activation in numpy\n",
    "    \n",
    "    Arguments:\n",
    "    Z -- numpy array of any shape\n",
    "    \n",
    "    Returns:\n",
    "    A -- output of sigmoid(z), same shape as Z\n",
    "    cache -- returns Z as well, useful during backpropagation\n",
    "    \"\"\"\n",
    "    \n",
    "    A = 1/(1+np.exp(-Z))\n",
    "    cache = Z\n",
    "    \n",
    "    return A, cache\n"
   ]
  },
  {
   "cell_type": "code",
   "execution_count": 5,
   "metadata": {},
   "outputs": [],
   "source": [
    "def relu(Z):\n",
    "    \"\"\"\n",
    "    Implement the RELU function.\n",
    "\n",
    "    Arguments:\n",
    "    Z -- Output of the linear layer, of any shape\n",
    "\n",
    "    Returns:\n",
    "    A -- Post-activation parameter, of the same shape as Z\n",
    "    cache -- a python dictionary containing \"A\" ; stored for computing the backward pass efficiently\n",
    "    \"\"\"\n",
    "    \n",
    "    A = np.maximum(0,Z)\n",
    "    \n",
    "    assert(A.shape == Z.shape)\n",
    "    \n",
    "    cache = Z \n",
    "    return A, cache\n",
    "\n"
   ]
  },
  {
   "cell_type": "code",
   "execution_count": 6,
   "metadata": {},
   "outputs": [],
   "source": [
    "def sigmoid_backward(dA, cache):\n",
    "    \"\"\"\n",
    "    Implement the backward propagation for a single SIGMOID unit.\n",
    "\n",
    "    Arguments:\n",
    "    dA -- post-activation gradient, of any shape\n",
    "    cache -- 'Z' where we store for computing backward propagation efficiently\n",
    "\n",
    "    Returns:\n",
    "    dZ -- Gradient of the cost with respect to Z\n",
    "    \"\"\"\n",
    "    \n",
    "    Z = cache\n",
    "    \n",
    "    s = 1/(1+np.exp(-Z))\n",
    "    dZ = dA * s * (1-s)\n",
    "    \n",
    "    assert (dZ.shape == Z.shape)\n",
    "    \n",
    "    return dZ"
   ]
  },
  {
   "cell_type": "code",
   "execution_count": 7,
   "metadata": {},
   "outputs": [],
   "source": [
    "def relu_backward(dA, cache):\n",
    "    \"\"\"\n",
    "    Implement the backward propagation for a single RELU unit.\n",
    "\n",
    "    Arguments:\n",
    "    dA -- post-activation gradient, of any shape\n",
    "    cache -- 'Z' where we store for computing backward propagation efficiently\n",
    "\n",
    "    Returns:\n",
    "    dZ -- Gradient of the cost with respect to Z\n",
    "    \"\"\"\n",
    "    \n",
    "    Z = cache\n",
    "    dZ = np.array(dA, copy=True) # just converting dz to a correct object.\n",
    "    \n",
    "    # When z <= 0, you should set dz to 0 as well. \n",
    "    dZ[Z <= 0] = 0\n",
    "    \n",
    "    assert (dZ.shape == Z.shape)\n",
    "    \n",
    "    return dZ\n",
    "\n"
   ]
  },
  {
   "cell_type": "code",
   "execution_count": 8,
   "metadata": {},
   "outputs": [],
   "source": [
    "def initialize_parameters_deep(layer_dims):\n",
    "    parameters={}\n",
    "    L=len(layer_dims) #no. of layers in the network \n",
    "    for l in range(1,L):\n",
    "        parameters['W'+str(l)]=np.random.randn(layer_dims[l],layer_dims[l-1])*0.001\n",
    "        parameters['b'+str(l)]=np.zeros((layer_dims[l],1))\n",
    "    return parameters"
   ]
  },
  {
   "cell_type": "code",
   "execution_count": 9,
   "metadata": {},
   "outputs": [],
   "source": [
    "def linear_forward(A,W,b):\n",
    "    Z=np.dot(W,A)+b\n",
    "    cache=(A,W,b)\n",
    "    return Z,cache"
   ]
  },
  {
   "cell_type": "code",
   "execution_count": 10,
   "metadata": {},
   "outputs": [],
   "source": [
    "def linear_activation_forward(A_prev, W,b,activation):\n",
    "    if activation=='sigmoid':\n",
    "        Z,linear_cache=linear_forward(A_prev,W,b)\n",
    "        A,activation_cache=sigmoid(Z)\n",
    "    elif activation=='relu':\n",
    "        Z,linear_cache=linear_forward(A_prev,W,b)\n",
    "        A,activation_cache=relu(Z)\n",
    "    cache=(linear_cache, activation_cache)\n",
    "    return A,cache\n",
    "    "
   ]
  },
  {
   "cell_type": "code",
   "execution_count": 11,
   "metadata": {},
   "outputs": [],
   "source": [
    "def L_model_forward(X,parameters):\n",
    "    caches = []\n",
    "    A = X\n",
    "    L = len(parameters) // 2                  # number of layers in the neural network\n",
    "    # Implement [LINEAR -> RELU]*(L-1). Add \"cache\" to the \"caches\" list.\n",
    "    for l in range(1, L):\n",
    "        A_prev = A\n",
    "        ### START CODE HERE ### (≈ 2 lines of code)\n",
    "        A, cache = linear_activation_forward(A_prev,parameters[\"W\"+str(l)],parameters[\"b\"+str(l)],activation='relu')\n",
    "        caches.append(cache)\n",
    "        ### END CODE HERE ###\n",
    "    \n",
    "    # Implement LINEAR -> SIGMOID. Add \"cache\" to the \"caches\" list.\n",
    "    ### START CODE HERE ### (≈ 2 lines of code)\n",
    "    AL, cache = linear_activation_forward(A,parameters[\"W\"+str(L)],parameters[\"b\"+str(L)],activation='sigmoid')\n",
    "    caches.append(cache)\n",
    "    ### END CODE HERE ###\n",
    "    \n",
    "    assert(AL.shape == (1,X.shape[1]))\n",
    "            \n",
    "    return AL, caches\n"
   ]
  },
  {
   "cell_type": "code",
   "execution_count": 42,
   "metadata": {},
   "outputs": [],
   "source": [
    "def compute_cost(AL,Y):\n",
    "    m=Y.shape[0]\n",
    "    cost = (-1/m)*np.sum(Y.T*np.log(AL)+(1-Y.T)*np.log(1-AL))\n",
    "    cost=np.squeeze(cost)\n",
    "    return cost\n"
   ]
  },
  {
   "cell_type": "code",
   "execution_count": 43,
   "metadata": {},
   "outputs": [],
   "source": [
    "def linear_backward(dZ,cache):\n",
    "    A_prev,W,b=cache\n",
    "    m=A_prev.shape[1]\n",
    "    dW=(1/889)*np.dot(dZ,A_prev.T)\n",
    "    db = (1/889)*np.sum(dZ,axis=1,keepdims=True)\n",
    "    dA_prev = np.dot(W.T,dZ)\n",
    "    assert (dA_prev.shape == A_prev.shape)\n",
    "    assert (dW.shape == W.shape)\n",
    "    assert (db.shape == b.shape)\n",
    "    \n",
    "    return dA_prev,dW,db"
   ]
  },
  {
   "cell_type": "code",
   "execution_count": 44,
   "metadata": {},
   "outputs": [],
   "source": [
    "def linear_activation_backward(dA,cache,activation):\n",
    "    linear_cache, activation_cache = cache\n",
    "    \n",
    "    if activation == \"relu\":\n",
    "        dZ = relu_backward(dA,activation_cache)\n",
    "        dA_prev, dW, db = linear_backward(dZ,linear_cache)\n",
    "        \n",
    "    elif activation == \"sigmoid\":\n",
    "        dZ = sigmoid_backward(dA,activation_cache)\n",
    "        dA_prev, dW, db = linear_backward(dZ,linear_cache)\n",
    "    return dA_prev, dW, db\n",
    "\n",
    "    "
   ]
  },
  {
   "cell_type": "code",
   "execution_count": 45,
   "metadata": {},
   "outputs": [],
   "source": [
    "def L_model_backward(AL, Y, caches):\n",
    "    grads = {}\n",
    "    L = len(caches) # the number of layers\n",
    "    m = AL.shape[1]\n",
    "    Y = Y.reshape(AL.shape)\n",
    "    dAL =- (np.divide(Y, AL) - np.divide(1 - Y, 1 - AL))\n",
    "    current_cache = caches[-1]\n",
    "    grads[\"dA\" + str(L-1)], grads[\"dW\" + str(L)], grads[\"db\" + str(L)] = linear_backward(sigmoid_backward(dAL,current_cache[1]),current_cache[0])\n",
    "    for l in reversed(range(L-1)):\n",
    "        current_cache = caches[l]\n",
    "        dA_prev_temp, dW_temp, db_temp = linear_backward(sigmoid_backward(dAL, current_cache[1]), current_cache[0])\n",
    "        grads[\"dA\" + str(l)] = dA_prev_temp\n",
    "        grads[\"dW\" + str(l + 1)] = dW_temp\n",
    "        grads[\"db\" + str(l + 1)] = db_temp\n",
    "        ### END CODE HERE ###\n",
    "\n",
    "    return grads\n",
    "    \n",
    "    "
   ]
  },
  {
   "cell_type": "code",
   "execution_count": 46,
   "metadata": {},
   "outputs": [],
   "source": [
    "def update_parameters(parameters, grads, learning_rate):\n",
    "    L = len(parameters) // 2\n",
    "    for l in range(L):\n",
    "        parameters[\"W\"+str(l+1)]-=learning_rate*grads['dW'+str(l+1)]\n",
    "        parameters[\"b\"+str(l+1)]-=learning_rate*grads['db'+str(l+1)]\n",
    "    return parameters\n",
    "    "
   ]
  },
  {
   "cell_type": "code",
   "execution_count": 47,
   "metadata": {},
   "outputs": [],
   "source": [
    "def L_layer_model(X, Y, layers_dims, learning_rate = 0.00075, num_iterations = 3000, print_cost=False):\n",
    "    costs = []    \n",
    "    parameters=initialize_parameters_deep(layers_dims)\n",
    "#     Starting gradient descent \n",
    "    for i in range(0, num_iterations):\n",
    "        AL,caches=L_model_forward(X,parameters)\n",
    "        cost=compute_cost(AL,Y)\n",
    "        grads=L_model_backward(AL,Y,caches)\n",
    "        parameters=update_parameters(parameters, grads, learning_rate)\n",
    "        if print_cost and i%100 ==0:\n",
    "            print(\"Cost after iteration %i: %f \" %(i,cost))\n",
    "        if print_cost and i % 100 == 0:\n",
    "            costs.append(cost)\n",
    "    plt.plot(np.squeeze(costs))\n",
    "    plt.ylabel('cost')\n",
    "    plt.xlabel('iterations (per hundreds)')\n",
    "    plt.title(\"Learning rate =\" + str(learning_rate))\n",
    "    plt.show()\n",
    "    return parameters\n",
    "\n",
    "            \n",
    "            "
   ]
  },
  {
   "cell_type": "code",
   "execution_count": 57,
   "metadata": {},
   "outputs": [],
   "source": [
    "layers_dims = [7, 120, 100, 20,18, 1]"
   ]
  },
  {
   "cell_type": "code",
   "execution_count": 58,
   "metadata": {},
   "outputs": [
    {
     "name": "stdout",
     "output_type": "stream",
     "text": [
      "Cost after iteration 0: 0.693147 \n",
      "Cost after iteration 100: 0.690895 \n",
      "Cost after iteration 200: 0.688826 \n",
      "Cost after iteration 300: 0.686926 \n",
      "Cost after iteration 400: 0.685180 \n",
      "Cost after iteration 500: 0.683577 \n",
      "Cost after iteration 600: 0.682104 \n",
      "Cost after iteration 700: 0.680751 \n",
      "Cost after iteration 800: 0.679507 \n",
      "Cost after iteration 900: 0.678365 \n",
      "Cost after iteration 1000: 0.677315 \n",
      "Cost after iteration 1100: 0.676350 \n",
      "Cost after iteration 1200: 0.675463 \n",
      "Cost after iteration 1300: 0.674648 \n",
      "Cost after iteration 1400: 0.673899 \n",
      "Cost after iteration 1500: 0.673210 \n",
      "Cost after iteration 1600: 0.672577 \n",
      "Cost after iteration 1700: 0.671994 \n",
      "Cost after iteration 1800: 0.671459 \n",
      "Cost after iteration 1900: 0.670966 \n",
      "Cost after iteration 2000: 0.670513 \n",
      "Cost after iteration 2100: 0.670096 \n",
      "Cost after iteration 2200: 0.669713 \n",
      "Cost after iteration 2300: 0.669360 \n",
      "Cost after iteration 2400: 0.669035 \n",
      "Cost after iteration 2500: 0.668737 \n",
      "Cost after iteration 2600: 0.668462 \n",
      "Cost after iteration 2700: 0.668209 \n",
      "Cost after iteration 2800: 0.667976 \n",
      "Cost after iteration 2900: 0.667761 \n",
      "Cost after iteration 3000: 0.667564 \n",
      "Cost after iteration 3100: 0.667382 \n",
      "Cost after iteration 3200: 0.667215 \n",
      "Cost after iteration 3300: 0.667061 \n",
      "Cost after iteration 3400: 0.666919 \n",
      "Cost after iteration 3500: 0.666788 \n",
      "Cost after iteration 3600: 0.666668 \n",
      "Cost after iteration 3700: 0.666557 \n",
      "Cost after iteration 3800: 0.666455 \n",
      "Cost after iteration 3900: 0.666360 \n",
      "Cost after iteration 4000: 0.666274 \n",
      "Cost after iteration 4100: 0.666194 \n",
      "Cost after iteration 4200: 0.666120 \n",
      "Cost after iteration 4300: 0.666052 \n",
      "Cost after iteration 4400: 0.665990 \n",
      "Cost after iteration 4500: 0.665932 \n",
      "Cost after iteration 4600: 0.665879 \n",
      "Cost after iteration 4700: 0.665830 \n",
      "Cost after iteration 4800: 0.665785 \n",
      "Cost after iteration 4900: 0.665744 \n"
     ]
    },
    {
     "data": {
      "image/png": "[encoded data removed]",
      "text/plain": [
       "<Figure size 432x288 with 1 Axes>"
      ]
     },
     "metadata": {
      "needs_background": "light"
     },
     "output_type": "display_data"
    }
   ],
   "source": [
    "parameters=L_layer_model(X_normalized,Y_flatten,layers_dims,learning_rate=0.00170,num_iterations=5000,print_cost=True)"
   ]
  },
  {
   "cell_type": "code",
   "execution_count": 59,
   "metadata": {},
   "outputs": [],
   "source": [
    "def predict(parameters, X):\n",
    "    \"\"\"\n",
    "    Using the learned parameters, predicts a class for each example in X\n",
    "    \n",
    "    Arguments:\n",
    "    parameters -- python dictionary containing your parameters \n",
    "    X -- input data of size (n_x, m)\n",
    "    \n",
    "    Returns\n",
    "    predictions -- vector of predictions of our model (red: 0 / blue: 1)\n",
    "    \"\"\"\n",
    "    # Computes probabilities using forward propagation, and classifies to 0/1 using 0.5 as the threshold.\n",
    "    ### START CODE HERE ### (≈ 2 lines of code)\n",
    "    A2, cache = L_model_forward(X,parameters)\n",
    "    print(A2)\n",
    "    predictions=A2>0.5\n",
    "    ### END CODE HERE ###\n",
    "    \n",
    "    return predictions\n",
    "\n",
    "\n",
    "# In[93]:\n"
   ]
  },
  {
   "cell_type": "code",
   "execution_count": 60,
   "metadata": {},
   "outputs": [],
   "source": [
    "def plot_decision_boundary(pred_func):\n",
    "    # Set min and max values and give it some padding\n",
    "    x_min, x_max = X[:, 0].min() - .5, X[:, 0].max() + .5\n",
    "    y_min, y_max = X[:, 1].min() - .5, X[:, 1].max() + .5\n",
    "    h = 0.01\n",
    "    # Generate a grid of points with distance h between them\n",
    "    xx, yy = np.meshgrid(np.arange(x_min, x_max, h), np.arange(y_min, y_max, h))\n",
    "    # Predict the function value for the whole gid\n",
    "    Z = pred_func(np.c_[xx.ravel(), yy.ravel()])\n",
    "    Z = Z.reshape(xx.shape)\n",
    "    # Plot the contour and training examples\n",
    "    plt.contourf(xx, yy, Z, cmap=plt.cm.Spectral)\n",
    "    plt.scatter(X[:, 0], X[:, 1], c=y, cmap=plt.cm.Spectral)\n"
   ]
  },
  {
   "cell_type": "code",
   "execution_count": null,
   "metadata": {},
   "outputs": [],
   "source": []
  },
  {
   "cell_type": "code",
   "execution_count": 61,
   "metadata": {},
   "outputs": [],
   "source": [
    "df1=pd.read_csv('test_titanic.csv')"
   ]
  },
  {
   "cell_type": "code",
   "execution_count": 62,
   "metadata": {},
   "outputs": [],
   "source": [
    "df1.drop(['Name','Ticket','Cabin','PassengerId'],1,inplace=True)\n",
    "df1.replace({'male':1,'female':0},inplace=True)\n",
    "max=df1['Embarked'].mode()\n",
    "df1=df1.fillna(max)\n",
    "df1.replace({'S':0,'C':1,'Q':2},inplace=True)\n",
    "df1['Age']=df1['Age'].interpolate()\n",
    "df1=df1.dropna()\n",
    "X_test=np.array(df1)\n"
   ]
  },
  {
   "cell_type": "code",
   "execution_count": 63,
   "metadata": {},
   "outputs": [],
   "source": [
    "X_test=X_test.reshape(7,417)\n",
    "Xtest_normalized=sklearn.preprocessing.normalize(X_test)"
   ]
  },
  {
   "cell_type": "code",
   "execution_count": 64,
   "metadata": {},
   "outputs": [
    {
     "name": "stdout",
     "output_type": "stream",
     "text": [
      "(7, 1)\n",
      "[[0.39715748]]\n"
     ]
    },
    {
     "data": {
      "text/plain": [
       "array([[False]])"
      ]
     },
     "execution_count": 64,
     "metadata": {},
     "output_type": "execute_result"
    }
   ],
   "source": [
    "A=np.array([3,0,24,1,1,8.90,0])\n",
    "A=A.reshape(7,1)\n",
    "print(A.shape)\n",
    "predict(parameters,A)"
   ]
  },
  {
   "cell_type": "code",
   "execution_count": 65,
   "metadata": {},
   "outputs": [
    {
     "data": {
      "text/html": [
       "<div>\n",
       "<style scoped>\n",
       "    .dataframe tbody tr th:only-of-type {\n",
       "        vertical-align: middle;\n",
       "    }\n",
       "\n",
       "    .dataframe tbody tr th {\n",
       "        vertical-align: top;\n",
       "    }\n",
       "\n",
       "    .dataframe thead th {\n",
       "        text-align: right;\n",
       "    }\n",
       "</style>\n",
       "<table border=\"1\" class=\"dataframe\">\n",
       "  <thead>\n",
       "    <tr style=\"text-align: right;\">\n",
       "      <th></th>\n",
       "      <th>Pclass</th>\n",
       "      <th>Sex</th>\n",
       "      <th>Age</th>\n",
       "      <th>SibSp</th>\n",
       "      <th>Parch</th>\n",
       "      <th>Fare</th>\n",
       "      <th>Embarked</th>\n",
       "    </tr>\n",
       "  </thead>\n",
       "  <tbody>\n",
       "    <tr>\n",
       "      <th>0</th>\n",
       "      <td>3</td>\n",
       "      <td>1</td>\n",
       "      <td>34.5</td>\n",
       "      <td>0</td>\n",
       "      <td>0</td>\n",
       "      <td>7.8292</td>\n",
       "      <td>2</td>\n",
       "    </tr>\n",
       "    <tr>\n",
       "      <th>1</th>\n",
       "      <td>3</td>\n",
       "      <td>0</td>\n",
       "      <td>47.0</td>\n",
       "      <td>1</td>\n",
       "      <td>0</td>\n",
       "      <td>7.0000</td>\n",
       "      <td>0</td>\n",
       "    </tr>\n",
       "    <tr>\n",
       "      <th>2</th>\n",
       "      <td>2</td>\n",
       "      <td>1</td>\n",
       "      <td>62.0</td>\n",
       "      <td>0</td>\n",
       "      <td>0</td>\n",
       "      <td>9.6875</td>\n",
       "      <td>2</td>\n",
       "    </tr>\n",
       "    <tr>\n",
       "      <th>3</th>\n",
       "      <td>3</td>\n",
       "      <td>1</td>\n",
       "      <td>27.0</td>\n",
       "      <td>0</td>\n",
       "      <td>0</td>\n",
       "      <td>8.6625</td>\n",
       "      <td>0</td>\n",
       "    </tr>\n",
       "    <tr>\n",
       "      <th>4</th>\n",
       "      <td>3</td>\n",
       "      <td>0</td>\n",
       "      <td>22.0</td>\n",
       "      <td>1</td>\n",
       "      <td>1</td>\n",
       "      <td>12.2875</td>\n",
       "      <td>0</td>\n",
       "    </tr>\n",
       "  </tbody>\n",
       "</table>\n",
       "</div>"
      ],
      "text/plain": [
       "   Pclass  Sex   Age  SibSp  Parch     Fare  Embarked\n",
       "0       3    1  34.5      0      0   7.8292         2\n",
       "1       3    0  47.0      1      0   7.0000         0\n",
       "2       2    1  62.0      0      0   9.6875         2\n",
       "3       3    1  27.0      0      0   8.6625         0\n",
       "4       3    0  22.0      1      1  12.2875         0"
      ]
     },
     "execution_count": 65,
     "metadata": {},
     "output_type": "execute_result"
    }
   ],
   "source": [
    "df1.head()"
   ]
  },
  {
   "cell_type": "code",
   "execution_count": 68,
   "metadata": {},
   "outputs": [
    {
     "name": "stdout",
     "output_type": "stream",
     "text": [
      "[[0.39715748 0.39715748 0.39715748 0.39715748 0.39715748 0.39715748\n",
      "  0.39715748 0.39715748 0.39715748 0.39715748 0.39715748 0.39715748\n",
      "  0.39715748 0.39715748 0.39715748 0.39715748 0.39715748 0.39715748\n",
      "  0.39715748 0.39715748 0.39715748 0.39715748 0.39715748 0.39715748\n",
      "  0.39715748 0.39715748 0.39715748 0.39715748 0.39715748 0.39715748\n",
      "  0.39715748 0.39715748 0.39715748 0.39715748 0.39715748 0.39715748\n",
      "  0.39715748 0.39715748 0.39715748 0.39715748 0.39715748 0.39715748\n",
      "  0.39715748 0.39715748 0.39715748 0.39715748 0.39715748 0.39715748\n",
      "  0.39715748 0.39715748 0.39715748 0.39715748 0.39715748 0.39715748\n",
      "  0.39715748 0.39715748 0.39715748 0.39715748 0.39715748 0.39715748\n",
      "  0.39715748 0.39715748 0.39715748 0.39715748 0.39715748 0.39715748\n",
      "  0.39715748 0.39715748 0.39715748 0.39715748 0.39715748 0.39715748\n",
      "  0.39715748 0.39715748 0.39715748 0.39715748 0.39715748 0.39715748\n",
      "  0.39715748 0.39715748 0.39715748 0.39715748 0.39715748 0.39715748\n",
      "  0.39715748 0.39715748 0.39715748 0.39715748 0.39715748 0.39715748\n",
      "  0.39715748 0.39715748 0.39715748 0.39715748 0.39715748 0.39715748\n",
      "  0.39715748 0.39715748 0.39715748 0.39715748 0.39715748 0.39715748\n",
      "  0.39715748 0.39715748 0.39715748 0.39715748 0.39715748 0.39715748\n",
      "  0.39715748 0.39715748 0.39715748 0.39715748 0.39715748 0.39715748\n",
      "  0.39715748 0.39715748 0.39715748 0.39715748 0.39715748 0.39715748\n",
      "  0.39715748 0.39715748 0.39715748 0.39715748 0.39715748 0.39715748\n",
      "  0.39715748 0.39715748 0.39715748 0.39715748 0.39715748 0.39715748\n",
      "  0.39715748 0.39715748 0.39715748 0.39715748 0.39715748 0.39715748\n",
      "  0.39715748 0.39715748 0.39715748 0.39715748 0.39715748 0.39715748\n",
      "  0.39715748 0.39715748 0.39715748 0.39715748 0.39715748 0.39715748\n",
      "  0.39715748 0.39715748 0.39715748 0.39715748 0.39715748 0.39715748\n",
      "  0.39715748 0.39715748 0.39715748 0.39715748 0.39715748 0.39715748\n",
      "  0.39715748 0.39715748 0.39715748 0.39715748 0.39715748 0.39715748\n",
      "  0.39715748 0.39715748 0.39715748 0.39715748 0.39715748 0.39715748\n",
      "  0.39715748 0.39715748 0.39715748 0.39715748 0.39715748 0.39715748\n",
      "  0.39715748 0.39715748 0.39715748 0.39715748 0.39715748 0.39715748\n",
      "  0.39715748 0.39715748 0.39715748 0.39715748 0.39715748 0.39715748\n",
      "  0.39715748 0.39715748 0.39715748 0.39715748 0.39715748 0.39715748\n",
      "  0.39715748 0.39715748 0.39715748 0.39715748 0.39715748 0.39715748\n",
      "  0.39715748 0.39715748 0.39715748 0.39715748 0.39715748 0.39715748\n",
      "  0.39715748 0.39715748 0.39715748 0.39715748 0.39715748 0.39715748\n",
      "  0.39715748 0.39715748 0.39715748 0.39715748 0.39715748 0.39715748\n",
      "  0.39715748 0.39715748 0.39715748 0.39715748 0.39715748 0.39715748\n",
      "  0.39715748 0.39715748 0.39715748 0.39715748 0.39715748 0.39715748\n",
      "  0.39715748 0.39715748 0.39715748 0.39715748 0.39715748 0.39715748\n",
      "  0.39715748 0.39715748 0.39715748 0.39715748 0.39715748 0.39715748\n",
      "  0.39715748 0.39715748 0.39715748 0.39715748 0.39715748 0.39715748\n",
      "  0.39715748 0.39715748 0.39715748 0.39715748 0.39715748 0.39715748\n",
      "  0.39715748 0.39715748 0.39715748 0.39715748 0.39715748 0.39715748\n",
      "  0.39715748 0.39715748 0.39715748 0.39715748 0.39715748 0.39715748\n",
      "  0.39715748 0.39715748 0.39715748 0.39715748 0.39715748 0.39715748\n",
      "  0.39715748 0.39715748 0.39715748 0.39715748 0.39715748 0.39715748\n",
      "  0.39715748 0.39715748 0.39715748 0.39715748 0.39715748 0.39715748\n",
      "  0.39715748 0.39715748 0.39715748 0.39715748 0.39715748 0.39715748\n",
      "  0.39715748 0.39715748 0.39715748 0.39715748 0.39715748 0.39715748\n",
      "  0.39715748 0.39715748 0.39715748 0.39715748 0.39715748 0.39715748\n",
      "  0.39715748 0.39715748 0.39715748 0.39715748 0.39715748 0.39715748\n",
      "  0.39715748 0.39715748 0.39715748 0.39715748 0.39715748 0.39715748\n",
      "  0.39715748 0.39715748 0.39715748 0.39715748 0.39715748 0.39715748\n",
      "  0.39715748 0.39715748 0.39715748 0.39715748 0.39715748 0.39715748\n",
      "  0.39715748 0.39715748 0.39715748 0.39715748 0.39715748 0.39715748\n",
      "  0.39715748 0.39715748 0.39715748 0.39715748 0.39715748 0.39715748\n",
      "  0.39715748 0.39715748 0.39715748 0.39715748 0.39715748 0.39715748\n",
      "  0.39715748 0.39715748 0.39715748 0.39715748 0.39715748 0.39715748\n",
      "  0.39715748 0.39715748 0.39715748 0.39715748 0.39715748 0.39715748\n",
      "  0.39715748 0.39715748 0.39715748 0.39715748 0.39715748 0.39715748\n",
      "  0.39715748 0.39715748 0.39715748 0.39715748 0.39715748 0.39715748\n",
      "  0.39715748 0.39715748 0.39715748 0.39715748 0.39715748 0.39715748\n",
      "  0.39715748 0.39715748 0.39715748 0.39715748 0.39715748 0.39715748\n",
      "  0.39715748 0.39715748 0.39715748 0.39715748 0.39715748 0.39715748\n",
      "  0.39715748 0.39715748 0.39715748 0.39715748 0.39715748 0.39715748\n",
      "  0.39715748 0.39715748 0.39715748 0.39715748 0.39715748 0.39715748\n",
      "  0.39715748 0.39715748 0.39715748 0.39715748 0.39715748 0.39715748\n",
      "  0.39715748 0.39715748 0.39715748 0.39715748 0.39715748 0.39715748\n",
      "  0.39715748 0.39715748 0.39715748]]\n",
      "(1, 417)\n"
     ]
    }
   ],
   "source": [
    "c=predict(parameters, Xtest_normalized)\n",
    "print(c.shape)"
   ]
  },
  {
   "cell_type": "code",
   "execution_count": null,
   "metadata": {},
   "outputs": [],
   "source": []
  },
  {
   "cell_type": "code",
   "execution_count": null,
   "metadata": {},
   "outputs": [],
   "source": []
  },
  {
   "cell_type": "code",
   "execution_count": null,
   "metadata": {},
   "outputs": [],
   "source": []
  }
 ],
 "metadata": {
  "kernelspec": {
   "display_name": "Python 3",
   "language": "python",
   "name": "python3"
  },
  "language_info": {
   "codemirror_mode": {
    "name": "ipython",
    "version": 3
   },
   "file_extension": ".py",
   "mimetype": "text/x-python",
   "name": "python",
   "nbconvert_exporter": "python",
   "pygments_lexer": "ipython3",
   "version": "3.7.6"
  }
 },
 "nbformat": 4,
 "nbformat_minor": 2
}
